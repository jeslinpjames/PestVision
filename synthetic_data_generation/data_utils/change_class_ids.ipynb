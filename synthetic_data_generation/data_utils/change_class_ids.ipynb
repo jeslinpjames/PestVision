{
 "cells": [
  {
   "cell_type": "markdown",
   "metadata": {},
   "source": [
    "Utility script for changing class label ids in yolo format - for clubbing all pest classes into one class: needed for working on the task of class agnostic pest detection\n",
    "\n",
    "(Note: make changes in class_mappings and for loop on the basis of dataset folder structure and dataset classes.)"
   ]
  },
  {
   "cell_type": "code",
   "execution_count": 1,
   "metadata": {},
   "outputs": [],
   "source": [
    "import os\n",
    "from glob import glob\n",
    "from natsort import natsorted\n",
    "from tqdm import tqdm"
   ]
  },
  {
   "cell_type": "code",
   "execution_count": 2,
   "metadata": {},
   "outputs": [
    {
     "name": "stdout",
     "output_type": "stream",
     "text": [
      "class mappings: {0: 0, 1: 0, 2: 0, 3: 0, 4: 0, 5: 0, 6: 0, 7: 0, 8: 0, 9: 0, 10: 0, 11: 0, 12: 0, 13: 0, 14: 0, 15: 0, 16: 0, 17: 0, 18: 0, 19: 0, 20: 0, 21: 0, 22: 0, 23: 0, 24: 0, 25: 0, 26: 0, 27: 0, 28: 0, 29: 0, 30: 0, 31: 0, 32: 0, 33: 0, 34: 0, 35: 0, 36: 0, 37: 0, 38: 0, 39: 0, 40: 0, 41: 0, 42: 0, 43: 0, 44: 0, 45: 0, 46: 0, 47: 0, 48: 0, 49: 0, 50: 0, 51: 0, 52: 0, 53: 0, 54: 0, 55: 0, 56: 0, 57: 0, 58: 0, 59: 0, 60: 0, 61: 0, 62: 0, 63: 0, 64: 0, 65: 0, 66: 0, 67: 0, 68: 0, 69: 0, 70: 0, 71: 0, 72: 0, 73: 0, 74: 0, 75: 0, 76: 0, 77: 0, 78: 0, 79: 0, 80: 0, 81: 0, 82: 0, 83: 0, 84: 0, 85: 0, 86: 0, 87: 0, 88: 0, 89: 0, 90: 0, 91: 0, 92: 0, 93: 0, 94: 0, 95: 0, 96: 0, 97: 0, 98: 0, 99: 0, 100: 0, 101: 0}\n"
     ]
    }
   ],
   "source": [
    "class_mappings = {i : 0 for i in range(102)}\n",
    "print(f\"class mappings: {class_mappings}\")"
   ]
  },
  {
   "cell_type": "code",
   "execution_count": 3,
   "metadata": {},
   "outputs": [],
   "source": [
    "#change the following paths appropriately\n",
    "dataset_dir = \"/home/siddhibrahmbhatt/code_siddhi/PestVisionChallenge/synthetic_data_generation/test\"\n",
    "old_labels = \"labels\"\n",
    "new_labels = \"labels_clubbed\"\n",
    "splits = [\"train\", \"val\", \"test\"]"
   ]
  },
  {
   "cell_type": "code",
   "execution_count": null,
   "metadata": {},
   "outputs": [],
   "source": [
    "for split in splits:\n",
    "\n",
    "    old_labels_dir = os.path.join(dataset_dir, old_labels, split)\n",
    "    new_labels_dir = os.path.join(dataset_dir, new_labels, split)\n",
    "    os.makedirs(new_labels_dir)\n",
    "\n",
    "    l = []\n",
    "    for file in natsorted(glob(f\"{old_labels_dir}/*\")):\n",
    "\n",
    "        l.append(file)\n",
    "\n",
    "        with open(file, \"r\") as f:\n",
    "            lines = f.readlines()\n",
    "        f.close()\n",
    "\n",
    "        for i in range(len(lines)):\n",
    "\n",
    "            split_line = lines[i].split()\n",
    "            old_label = int(split_line[0])\n",
    "            new_label = str(class_mappings[old_label])\n",
    "            split_line[0] = new_label\n",
    "\n",
    "            lines[i] = ' '.join(split_line) + '\\n'\n",
    "\n",
    "        new_file = os.path.join(new_labels_dir, os.path.basename(file))\n",
    "\n",
    "        with open(new_file, \"w\") as f:\n",
    "            f.writelines(lines)\n",
    "        f.close()\n",
    "  \n",
    "    print(f\"number of files in {split} split = {len(l)}\")"
   ]
  }
 ],
 "metadata": {
  "kernelspec": {
   "display_name": "Libcom",
   "language": "python",
   "name": "python3"
  },
  "language_info": {
   "codemirror_mode": {
    "name": "ipython",
    "version": 3
   },
   "file_extension": ".py",
   "mimetype": "text/x-python",
   "name": "python",
   "nbconvert_exporter": "python",
   "pygments_lexer": "ipython3",
   "version": "3.8.5"
  }
 },
 "nbformat": 4,
 "nbformat_minor": 2
}
