{
 "cells": [
  {
   "cell_type": "code",
   "execution_count": 119,
   "metadata": {},
   "outputs": [],
   "source": [
    "import cv2\n",
    "\n",
    "# Load image\n",
    "# path = \"D:/git/New folder/data/val/images/0e945692-4189-4185-95d9-d85eddb151f2.jpg\"\n",
    "path = \"D:/git/New folder/data/val/images/3bf787ab-753d-45ef-a12b-b73188bbfbeb.jpg\"\n",
    "img = cv2.imread(path)\n",
    "\n",
    "# Display using OpenCV's imshow\n",
    "cv2.imshow('Image', img)\n",
    "cv2.waitKey(0)  # Wait indefinitely for a key press\n",
    "cv2.destroyAllWindows()  # Close all OpenCV windows\n"
   ]
  },
  {
   "cell_type": "code",
   "execution_count": 73,
   "metadata": {},
   "outputs": [],
   "source": [
    "import cv2\n",
    "\n",
    "# Grayscale Transformation\n",
    "\n",
    "grayscale_img = cv2.cvtColor(img, cv2.COLOR_BGR2GRAY)\n",
    "# Display using OpenCV's imshow\n",
    "cv2.imshow('Image', grayscale_img)\n",
    "cv2.waitKey(0)  # Wait indefinitely for a key press\n",
    "cv2.destroyAllWindows()  # Close all OpenCV windows\n"
   ]
  },
  {
   "cell_type": "code",
   "execution_count": 74,
   "metadata": {},
   "outputs": [],
   "source": [
    "import cv2\n",
    "\n",
    "# Gaussian Blur Transformation\n",
    "gaussian_blur_img = cv2.GaussianBlur(img, (5, 5), 0)\n",
    "# Display using OpenCV's imshow\n",
    "cv2.imshow('Image', gaussian_blur_img)\n",
    "cv2.waitKey(0)  # Wait indefinitely for a key press\n",
    "cv2.destroyAllWindows()  # Close all OpenCV windows\n"
   ]
  },
  {
   "cell_type": "code",
   "execution_count": 75,
   "metadata": {},
   "outputs": [],
   "source": [
    "import cv2\n",
    "\n",
    "# Median Blur Transformation\n",
    "median_blur_img = cv2.medianBlur(img, 5)\n",
    "cv2.imshow('Image', median_blur_img)\n",
    "cv2.waitKey(0)  # Wait indefinitely for a key press\n",
    "cv2.destroyAllWindows()  # Close all OpenCV windows\n"
   ]
  },
  {
   "cell_type": "code",
   "execution_count": 120,
   "metadata": {},
   "outputs": [],
   "source": [
    "import cv2\n",
    "\n",
    "# Bilateral Filter Transformation\n",
    "bilateral_filter_img = cv2.bilateralFilter(img, 9, 75, 75)\n",
    "cv2.imshow('Image', bilateral_filter_img)\n",
    "cv2.waitKey(0)  # Wait indefinitely for a key press\n",
    "cv2.destroyAllWindows()  # Close all OpenCV windows\n"
   ]
  },
  {
   "cell_type": "code",
   "execution_count": 121,
   "metadata": {},
   "outputs": [],
   "source": [
    "import cv2\n",
    "\n",
    "# Edge Detection (Canny)\n",
    "edges_img = cv2.Canny(img, 100, 200)\n",
    "cv2.imshow('Image', edges_img)\n",
    "cv2.waitKey(0)  # Wait indefinitely for a key press\n",
    "cv2.destroyAllWindows()  # Close all OpenCV windows\n"
   ]
  },
  {
   "cell_type": "code",
   "execution_count": 98,
   "metadata": {},
   "outputs": [],
   "source": [
    "import cv2\n",
    "\n",
    "# Adaptive Thresholding\n",
    "adaptive_thresh_img = cv2.adaptiveThreshold(grayscale_img, 255, cv2.ADAPTIVE_THRESH_GAUSSIAN_C, cv2.THRESH_BINARY, 11, 2)\n",
    "cv2.imshow('Image', adaptive_thresh_img)\n",
    "cv2.waitKey(0)  # Wait indefinitely for a key press\n",
    "cv2.destroyAllWindows()  # Close all OpenCV windows\n"
   ]
  },
  {
   "cell_type": "code",
   "execution_count": 97,
   "metadata": {},
   "outputs": [],
   "source": [
    "import cv2\n",
    "import numpy as np\n",
    "\n",
    "# Sobel Edge Detection\n",
    "sobelx = cv2.Sobel(grayscale_img, cv2.CV_64F, 1, 0, ksize=5)\n",
    "sobely = cv2.Sobel(grayscale_img, cv2.CV_64F, 0, 1, ksize=5)\n",
    "sobel_img = np.sqrt(sobelx**2 + sobely**2)\n",
    "sobel_img = cv2.convertScaleAbs(sobel_img)\n",
    "cv2.imshow('Image', sobel_img)\n",
    "cv2.waitKey(0)  # Wait indefinitely for a key press\n",
    "cv2.destroyAllWindows()  # Close all OpenCV windows\n"
   ]
  },
  {
   "cell_type": "code",
   "execution_count": 99,
   "metadata": {},
   "outputs": [],
   "source": [
    "import cv2\n",
    "\n",
    "# Laplacian Edge Detection\n",
    "laplacian_img = cv2.Laplacian(grayscale_img, cv2.CV_64F)\n",
    "laplacian_img = cv2.convertScaleAbs(laplacian_img)\n",
    "cv2.imshow('Image', laplacian_img)\n",
    "cv2.waitKey(0)  # Wait indefinitely for a key press\n",
    "cv2.destroyAllWindows()  # Close all OpenCV windows\n"
   ]
  },
  {
   "cell_type": "code",
   "execution_count": 100,
   "metadata": {},
   "outputs": [],
   "source": [
    "import cv2\n",
    "\n",
    "# CLAHE\n",
    "clahe = cv2.createCLAHE(clipLimit=2.0, tileGridSize=(8, 8))\n",
    "clahe_img = clahe.apply(grayscale_img)\n",
    "cv2.imshow('Image', clahe_img)\n",
    "cv2.waitKey(0)  # Wait indefinitely for a key press\n",
    "cv2.destroyAllWindows()  # Close all OpenCV windows\n"
   ]
  },
  {
   "cell_type": "code",
   "execution_count": 101,
   "metadata": {},
   "outputs": [],
   "source": [
    "import cv2\n",
    "import numpy as np\n",
    "\n",
    "# Morphological Transformations\n",
    "kernel = np.ones((5, 5), np.uint8)\n",
    "erosion_img = cv2.erode(img, kernel, iterations=1)\n",
    "dilation_img = cv2.dilate(img, kernel, iterations=1)\n",
    "cv2.imshow('Image', dilation_img)\n",
    "cv2.waitKey(0)  # Wait indefinitely for a key press\n",
    "cv2.destroyAllWindows()  # Close all OpenCV windows\n"
   ]
  },
  {
   "cell_type": "code",
   "execution_count": 102,
   "metadata": {},
   "outputs": [],
   "source": [
    "import cv2\n",
    "import numpy as np\n",
    "\n",
    "# Image Translation\n",
    "rows, cols = img.shape[:2]\n",
    "translation_matrix = np.float32([[1, 0, 50], [0, 1, 50]])\n",
    "translated_img = cv2.warpAffine(img, translation_matrix, (cols, rows))\n",
    "cv2.imshow('Image', translated_img)\n",
    "cv2.waitKey(0)  # Wait indefinitely for a key press\n",
    "cv2.destroyAllWindows()  # Close all OpenCV windows\n"
   ]
  },
  {
   "cell_type": "code",
   "execution_count": 103,
   "metadata": {},
   "outputs": [],
   "source": [
    "import cv2\n",
    "\n",
    "# Image Scaling\n",
    "scaled_img = cv2.resize(img, None, fx=0.5, fy=0.5, interpolation=cv2.INTER_LINEAR)\n",
    "cv2.imshow('Image', scaled_img)\n",
    "cv2.waitKey(0)  # Wait indefinitely for a key press\n",
    "cv2.destroyAllWindows()  # Close all OpenCV windows\n"
   ]
  },
  {
   "cell_type": "code",
   "execution_count": 122,
   "metadata": {},
   "outputs": [],
   "source": [
    "import cv2\n",
    "\n",
    "# Inversion\n",
    "inverted_img = cv2.bitwise_not(img)\n",
    "cv2.imshow('Image', inverted_img)\n",
    "cv2.waitKey(0)  # Wait indefinitely for a key press\n",
    "cv2.destroyAllWindows()  # Close all OpenCV windows\n"
   ]
  },
  {
   "cell_type": "code",
   "execution_count": 105,
   "metadata": {},
   "outputs": [
    {
     "name": "stderr",
     "output_type": "stream",
     "text": [
      "C:\\Users\\jesli\\AppData\\Local\\Temp\\ipykernel_34812\\202471216.py:6: RuntimeWarning: divide by zero encountered in log\n",
      "  log_transformed_img = c * (np.log(img + 1))\n",
      "C:\\Users\\jesli\\AppData\\Local\\Temp\\ipykernel_34812\\202471216.py:7: RuntimeWarning: invalid value encountered in cast\n",
      "  log_transformed_img = np.array(log_transformed_img, dtype=np.uint8)\n"
     ]
    }
   ],
   "source": [
    "import cv2\n",
    "import numpy as np\n",
    "\n",
    "# Log Transformation\n",
    "c = 255 / (np.log(1 + np.max(img)))\n",
    "log_transformed_img = c * (np.log(img + 1))\n",
    "log_transformed_img = np.array(log_transformed_img, dtype=np.uint8)\n",
    "cv2.imshow('Image', log_transformed_img)\n",
    "cv2.waitKey(0)  # Wait indefinitely for a key press\n",
    "cv2.destroyAllWindows()  # Close all OpenCV windows"
   ]
  },
  {
   "cell_type": "code",
   "execution_count": 123,
   "metadata": {},
   "outputs": [],
   "source": [
    "import cv2\n",
    "import numpy as np\n",
    "\n",
    "# Power-Law (Gamma) Transformation\n",
    "gamma = 2.0\n",
    "gamma_transformed_img = np.array(255 * (img / 255) ** gamma, dtype='uint8')\n",
    "cv2.imshow('Image', gamma_transformed_img)\n",
    "cv2.waitKey(0)  # Wait indefinitely for a key press\n",
    "cv2.destroyAllWindows()  # Close all OpenCV windows"
   ]
  },
  {
   "cell_type": "code",
   "execution_count": 124,
   "metadata": {},
   "outputs": [],
   "source": [
    "import cv2\n",
    "import numpy as np\n",
    "\n",
    "# Fourier Transform\n",
    "dft = cv2.dft(np.float32(grayscale_img), flags=cv2.DFT_COMPLEX_OUTPUT)\n",
    "dft_shift = np.fft.fftshift(dft)\n",
    "magnitude_spectrum = 20 * np.log(cv2.magnitude(dft_shift[:, :, 0], dft_shift[:, :, 1]))\n",
    "cv2.imshow('Image', magnitude_spectrum)\n",
    "cv2.waitKey(0)  # Wait indefinitely for a key press\n",
    "cv2.destroyAllWindows()  # Close all OpenCV windows"
   ]
  },
  {
   "cell_type": "code",
   "execution_count": 108,
   "metadata": {},
   "outputs": [],
   "source": [
    "import cv2\n",
    "import numpy as np\n",
    "\n",
    "# Inverse Fourier Transform\n",
    "idft_shift = np.fft.ifftshift(dft_shift)\n",
    "idft = cv2.idft(idft_shift)\n",
    "idft_magnitude = cv2.magnitude(idft[:, :, 0], idft[:, :, 1])\n",
    "cv2.imshow('Image', idft_magnitude)\n",
    "cv2.waitKey(0)  # Wait indefinitely for a key press\n",
    "cv2.destroyAllWindows()  # Close all OpenCV windows"
   ]
  },
  {
   "cell_type": "code",
   "execution_count": 109,
   "metadata": {},
   "outputs": [],
   "source": [
    "import cv2\n",
    "\n",
    "# Discrete Cosine Transform (DCT)\n",
    "dct = cv2.dct(np.float32(grayscale_img))\n",
    "cv2.imshow('Image', dct)\n",
    "cv2.waitKey(0)  # Wait indefinitely for a key press\n",
    "cv2.destroyAllWindows()  # Close all OpenCV windows"
   ]
  },
  {
   "cell_type": "code",
   "execution_count": 110,
   "metadata": {},
   "outputs": [],
   "source": [
    "import cv2\n",
    "\n",
    "# Inverse Discrete Cosine Transform (IDCT)\n",
    "idct = cv2.idct(dct)\n",
    "cv2.imshow('Image', idct)\n",
    "cv2.waitKey(0)  # Wait indefinitely for a key press\n",
    "cv2.destroyAllWindows()  # Cl"
   ]
  },
  {
   "cell_type": "code",
   "execution_count": 66,
   "metadata": {},
   "outputs": [
    {
     "name": "stderr",
     "output_type": "stream",
     "text": [
      "ERROR: Could not find a version that satisfies the requirement pywt (from versions: none)\n",
      "ERROR: No matching distribution found for pywt\n"
     ]
    }
   ],
   "source": [
    "!pip install pywt"
   ]
  },
  {
   "cell_type": "code",
   "execution_count": 65,
   "metadata": {},
   "outputs": [
    {
     "ename": "ModuleNotFoundError",
     "evalue": "No module named 'pywt'",
     "output_type": "error",
     "traceback": [
      "\u001b[1;31m---------------------------------------------------------------------------\u001b[0m",
      "\u001b[1;31mModuleNotFoundError\u001b[0m                       Traceback (most recent call last)",
      "Cell \u001b[1;32mIn[65], line 1\u001b[0m\n\u001b[1;32m----> 1\u001b[0m \u001b[38;5;28;01mimport\u001b[39;00m \u001b[38;5;21;01mpywt\u001b[39;00m\n\u001b[0;32m      2\u001b[0m \u001b[38;5;28;01mimport\u001b[39;00m \u001b[38;5;21;01mcv2\u001b[39;00m\n\u001b[0;32m      4\u001b[0m \u001b[38;5;66;03m# Wavelet Transform\u001b[39;00m\n",
      "\u001b[1;31mModuleNotFoundError\u001b[0m: No module named 'pywt'"
     ]
    }
   ],
   "source": [
    "import pywt\n",
    "import cv2\n",
    "\n",
    "# Wavelet Transform\n",
    "coeffs2 = pywt.dwt2(grayscale_img, 'bior1.3')\n",
    "LL, (LH, HL, HH) = coeffs2\n",
    "cv2.imshow('Image', coeffs2)\n",
    "cv2.waitKey(0)  # Wait indefinitely for a key press\n",
    "cv2.destroyAllWindows()  # Cl"
   ]
  },
  {
   "cell_type": "code",
   "execution_count": 68,
   "metadata": {},
   "outputs": [],
   "source": [
    "import cv2\n",
    "import numpy as np\n",
    "\n",
    "# Gabor Filter\n",
    "gabor_kernel = cv2.getGaborKernel((21, 21), 8.0, np.pi / 4, 10.0, 0.5, 0, ktype=cv2.CV_32F)\n",
    "gabor_img = cv2.filter2D(grayscale_img, cv2.CV_8UC3, gabor_kernel)\n",
    "cv2.imshow('Image', gabor_img)\n",
    "cv2.waitKey(0)  # Wait indefinitely for a key press\n",
    "cv2.destroyAllWindows()  # Cl"
   ]
  },
  {
   "cell_type": "code",
   "execution_count": 69,
   "metadata": {},
   "outputs": [],
   "source": [
    "import cv2\n",
    "import numpy as np\n",
    "\n",
    "# High-Pass Filter\n",
    "dft = cv2.dft(np.float32(grayscale_img), flags=cv2.DFT_COMPLEX_OUTPUT)\n",
    "dft_shift = np.fft.fftshift(dft)\n",
    "rows, cols = grayscale_img.shape\n",
    "crow, ccol = rows // 2 , cols // 2\n",
    "mask = np.ones((rows, cols, 2), np.uint8)\n",
    "r = 30\n",
    "center = [crow, ccol]\n",
    "x, y = np.ogrid[:rows, :cols]\n",
    "mask_area = (x - center[0]) ** 2 + (y - center[1]) ** 2 <= r*r\n",
    "mask[mask_area] = 0\n",
    "fshift = dft_shift * mask\n",
    "f_ishift = np.fft.ifftshift(fshift)\n",
    "img_back = cv2.idft(f_ishift)\n",
    "img_back = cv2.magnitude(img_back[:, :, 0], img_back[:, :, 1])\n",
    "cv2.imshow('Image', img_back)\n",
    "cv2.waitKey(0)  # Wait indefinitely for a key press\n",
    "cv2.destroyAllWindows()  # Cl"
   ]
  },
  {
   "cell_type": "code",
   "execution_count": 70,
   "metadata": {},
   "outputs": [],
   "source": [
    "import cv2\n",
    "import numpy as np\n",
    "\n",
    "# Low-Pass Filter\n",
    "dft = cv2.dft(np.float32(grayscale_img), flags=cv2.DFT_COMPLEX_OUTPUT)\n",
    "dft_shift = np.fft.fftshift(dft)\n",
    "rows, cols = grayscale_img.shape\n",
    "crow, ccol = rows // 2 , cols // 2\n",
    "mask = np.zeros((rows, cols, 2), np.uint8)\n",
    "r = 30\n",
    "center = [crow, ccol]\n",
    "x, y = np.ogrid[:rows, :cols]\n",
    "mask_area = (x - center[0]) ** 2 + (y - center[1]) ** 2 <= r*r\n",
    "mask[mask_area] = 1\n",
    "fshift = dft_shift * mask\n",
    "f_ishift = np.fft.ifftshift(fshift)\n",
    "img_back = cv2.idft(f_ishift)\n",
    "img_back = cv2.magnitude(img_back[:, :, 0], img_back[:, :, 1])\n",
    "cv2.imshow('Image', img_back)\n",
    "cv2.waitKey(0)  # Wait indefinitely for a key press\n",
    "cv2.destroyAllWindows()  # Cl"
   ]
  },
  {
   "cell_type": "code",
   "execution_count": 71,
   "metadata": {},
   "outputs": [],
   "source": [
    "import cv2\n",
    "\n",
    "# Laplacian of Gaussian (LoG)\n",
    "log_img = cv2.GaussianBlur(grayscale_img, (3, 3), 0)\n",
    "log_img = cv2.Laplacian(log_img, cv2.CV_64F)\n",
    "log_img = cv2.convertScaleAbs(log_img)\n",
    "cv2.imshow('Image', log_img)\n",
    "cv2.waitKey(0)  # Wait indefinitely for a key press\n",
    "cv2.destroyAllWindows()  # Cl"
   ]
  },
  {
   "cell_type": "code",
   "execution_count": 111,
   "metadata": {},
   "outputs": [],
   "source": [
    "import cv2\n",
    "\n",
    "# Negative Transformation\n",
    "negative_img = cv2.bitwise_not(img)\n",
    "cv2.imshow('Image', negative_img)\n",
    "cv2.waitKey(0)  # Wait indefinitely for a key press\n",
    "cv2.destroyAllWindows() "
   ]
  },
  {
   "cell_type": "code",
   "execution_count": 112,
   "metadata": {},
   "outputs": [],
   "source": [
    "import cv2\n",
    "\n",
    "# Adaptive Histogram Equalization (CLAHE)\n",
    "clahe = cv2.createCLAHE(clipLimit=2.0, tileGridSize=(8, 8))\n",
    "clahe_img = clahe.apply(grayscale_img)\n",
    "cv2.imshow('Image', negative_img)\n",
    "cv2.waitKey(0)  # Wait indefinitely for a key press\n",
    "cv2.destroyAllWindows() "
   ]
  },
  {
   "cell_type": "code",
   "execution_count": 113,
   "metadata": {},
   "outputs": [],
   "source": [
    "import cv2\n",
    "\n",
    "# Scharr Operator\n",
    "scharr_x = cv2.Scharr(grayscale_img, cv2.CV_64F, 1, 0)\n",
    "scharr_y = cv2.Scharr(grayscale_img, cv2.CV_64F, 0, 1)\n",
    "scharr_img = cv2.magnitude(scharr_x, scharr_y)\n",
    "scharr_img = cv2.convertScaleAbs(scharr_img)\n",
    "cv2.imshow('Image', negative_img)\n",
    "cv2.waitKey(0)  # Wait indefinitely for a key press\n",
    "cv2.destroyAllWindows() \n"
   ]
  },
  {
   "cell_type": "code",
   "execution_count": 115,
   "metadata": {},
   "outputs": [],
   "source": [
    "import cv2\n",
    "import numpy as np\n",
    "\n",
    "# High-Boost Filtering\n",
    "blurred = cv2.GaussianBlur(grayscale_img, (5, 5), 10.0)\n",
    "high_boost_img = cv2.addWeighted(grayscale_img, 1.5, blurred, -0.5, 0)\n",
    "cv2.imshow('Image', negative_img)\n",
    "cv2.waitKey(0)  # Wait indefinitely for a key press\n",
    "cv2.destroyAllWindows()"
   ]
  },
  {
   "cell_type": "code",
   "execution_count": 116,
   "metadata": {},
   "outputs": [],
   "source": [
    "import cv2\n",
    "\n",
    "# Laplacian of Gaussian (LoG)\n",
    "log_img = cv2.GaussianBlur(grayscale_img, (3, 3), 0)\n",
    "log_img = cv2.Laplacian(log_img, cv2.CV_64F)\n",
    "log_img = cv2.convertScaleAbs(log_img)\n",
    "cv2.imshow('Image', negative_img)\n",
    "cv2.waitKey(0)  # Wait indefinitely for a key press\n",
    "cv2.destroyAllWindows()"
   ]
  },
  {
   "cell_type": "code",
   "execution_count": 117,
   "metadata": {},
   "outputs": [],
   "source": [
    "import cv2\n",
    "import numpy as np\n",
    "\n",
    "# Unsharp Masking\n",
    "blurred = cv2.GaussianBlur(img, (9, 9), 10.0)\n",
    "unsharp_img = cv2.addWeighted(img, 1.5, blurred, -0.5, 0)\n",
    "cv2.imshow('Image', negative_img)\n",
    "cv2.waitKey(0)  # Wait indefinitely for a key press\n",
    "cv2.destroyAllWindows()"
   ]
  },
  {
   "cell_type": "code",
   "execution_count": 118,
   "metadata": {},
   "outputs": [],
   "source": [
    "import cv2\n",
    "import numpy as np\n",
    "\n",
    "# High Pass Filter\n",
    "dft = cv2.dft(np.float32(grayscale_img), flags=cv2.DFT_COMPLEX_OUTPUT)\n",
    "dft_shift = np.fft.fftshift(dft)\n",
    "rows, cols = grayscale_img.shape\n",
    "crow, ccol = rows // 2 , cols // 2\n",
    "mask = np.ones((rows, cols, 2), np.uint8)\n",
    "r = 30\n",
    "center = [crow, ccol]\n",
    "x, y = np.ogrid[:rows, :cols]\n",
    "mask_area = (x - center[0]) ** 2 + (y - center[1]) ** 2 <= r*r\n",
    "mask[mask_area] = 0\n",
    "fshift = dft_shift * mask\n",
    "f_ishift = np.fft.ifftshift(fshift)\n",
    "img_back = cv2.idft(f_ishift)\n",
    "img_back = cv2.magnitude(img_back[:, :, 0], img_back[:, :, 1])\n",
    "\n",
    "cv2.imshow('Image', img_back)\n",
    "cv2.waitKey(0)  # Wait indefinitely for a key press\n",
    "cv2.destroyAllWindows()"
   ]
  },
  {
   "cell_type": "code",
   "execution_count": null,
   "metadata": {},
   "outputs": [],
   "source": []
  }
 ],
 "metadata": {
  "kernelspec": {
   "display_name": "pv",
   "language": "python",
   "name": "python3"
  },
  "language_info": {
   "codemirror_mode": {
    "name": "ipython",
    "version": 3
   },
   "file_extension": ".py",
   "mimetype": "text/x-python",
   "name": "python",
   "nbconvert_exporter": "python",
   "pygments_lexer": "ipython3",
   "version": "3.12.3"
  }
 },
 "nbformat": 4,
 "nbformat_minor": 2
}
